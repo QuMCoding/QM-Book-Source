{
 "cells": [
  {
   "cell_type": "markdown",
   "metadata": {},
   "source": [
    "# Python 簡介\n",
    "\n",
    "1. 簡單易學\n",
    "2. 高生產力\n",
    "3. 跨多領域\n",
    "4. 高可讀性\n",
    "5. 動態 Typing\n",
    "6. 直譯式\n",
    "7. 跨平台\n"
   ]
  },
  {
   "cell_type": "markdown",
   "metadata": {},
   "source": [
    "# 安裝 conda\n",
    "\n",
    "### 1. Miniconda\n",
    "\n",
    "沒有太多預裝軟體，最小化安裝\n",
    "\n",
    "### 2. Anaconda\n",
    "\n",
    "預裝很多東西，對科學計算可以輕易使用\n"
   ]
  },
  {
   "cell_type": "markdown",
   "metadata": {},
   "source": [
    "# 什麼是 conda\n",
    "\n",
    "1. free & open source\n",
    "2. 管理不同環境\n",
    "3. 解決環境衝突\n"
   ]
  },
  {
   "cell_type": "markdown",
   "metadata": {},
   "source": [
    "# 安裝 Miniconda\n",
    "\n",
    "### 從官網\n",
    "\n",
    "https://docs.conda.io/projects/miniconda/en/latest/\n"
   ]
  },
  {
   "cell_type": "markdown",
   "metadata": {},
   "source": [
    "# conda 指令介紹\n",
    "\n",
    "## 檢查 python、conda 版本\n",
    "\n",
    "```bash\n",
    "$ conda -V\n",
    "conda 23.1.0\n",
    "$ python -V\n",
    "Python 3.10.6\n",
    "```\n"
   ]
  },
  {
   "cell_type": "markdown",
   "metadata": {},
   "source": [
    "## 查看 conda 環境\n",
    "\n",
    "```bash\n",
    "conda env list\n",
    "```\n"
   ]
  },
  {
   "cell_type": "markdown",
   "metadata": {},
   "source": [
    "## conda 建立新環境\n",
    "\n",
    "```bash\n",
    "conda create -n <env_name> python=<python_ver>\n",
    "```\n",
    "\n",
    "例如\n",
    "\n",
    "```bash\n",
    "conda create -n py39 python=3.9\n",
    "```\n"
   ]
  },
  {
   "cell_type": "markdown",
   "metadata": {},
   "source": [
    "## 進入/退出 conda 虛擬環境\n",
    "\n",
    "```bash\n",
    "conda activate <env>  # 進入環境\n",
    "conda deactivate <env>  # 退出環境\n",
    "```\n",
    "\n",
    "例如\n",
    "\n",
    "```bash\n",
    "$ python -V\n",
    "'python' 不是內部或外部命令、可執行的程式或批次檔。\n",
    "$ conda activate py39\n",
    "(py39) $ python -V\n",
    "Python 3.9.13\n",
    "(py39) $ conda deactivate\n",
    "$ python -V\n",
    "'python' 不是內部或外部命令、可執行的程式或批次檔。\n",
    "```\n"
   ]
  },
  {
   "cell_type": "markdown",
   "metadata": {},
   "source": [
    "## python 互動模式\n",
    "\n",
    "在終端機直接打 python\n",
    "\n",
    "```bash\n",
    "$ conda activate py39\n",
    "(py39) $ python\n",
    "Python 3.9.13 (tags/v3.9.13:f377153, Jun  6 2022, 16:14:13) [MSC v.1929 64 bit (AMD64)] on win32\n",
    "Type \"help\", \"copyright\", \"credits\" or \"license\" for more information.\n",
    ">>> print(\"hello, world\")\n",
    "hello, world\n",
    ">>> exit()\n",
    "\n",
    "$\n",
    "```\n"
   ]
  },
  {
   "cell_type": "markdown",
   "metadata": {},
   "source": [
    "## python script\n",
    "\n",
    "- 產品用程式(production code)通常會寫成 script\n",
    "- 需有 IDE (vscode, PyCharm, vim, nano, 記事本...)\n"
   ]
  },
  {
   "cell_type": "markdown",
   "metadata": {},
   "source": [
    "1. 建立檔案 test.py\n",
    "2. 在 test.py 內輸入:\n",
    "\n",
    "```python=\n",
    "print(\"hello, world\")\n",
    "```\n",
    "\n",
    "3. 在終端機輸入:\n",
    "\n",
    "```bash\n",
    "$ python test.py\n",
    "hello, world\n",
    "```\n"
   ]
  },
  {
   "cell_type": "markdown",
   "metadata": {},
   "source": [
    "## jupyter notebook\n",
    "\n",
    "- 教學用、特定用途、科學及統計運算\n",
    "- 嫌醜可用其他外殼包(vscode notebook mode, dataspell, ...)\n",
    "- 可遠端連線操作\n"
   ]
  },
  {
   "cell_type": "markdown",
   "metadata": {},
   "source": [
    "## 安裝 jupyter\n",
    "\n",
    "```bash\n",
    "(py39) $ pip install jupyter\n",
    "```\n",
    "\n",
    "查看版本:\n",
    "\n",
    "```bash\n",
    "(py39) $ jupyter --version\n",
    "Selected Jupyter core packages...\n",
    "IPython          : 7.31.1\n",
    "ipykernel        : 6.19.2\n",
    "ipywidgets       : 7.6.5\n",
    "jupyter_client   : 7.3.4\n",
    "jupyter_core     : 5.1.1\n",
    "jupyter_server   : 1.23.4\n",
    "jupyterlab       : 3.5.2\n",
    "nbclient         : 0.5.13\n",
    "nbconvert        : 6.4.4\n",
    "nbformat         : 5.7.0\n",
    "notebook         : 6.5.2\n",
    "qtconsole        : 5.2.2\n",
    "traitlets        : 5.7.1\n",
    "```\n"
   ]
  },
  {
   "cell_type": "markdown",
   "metadata": {},
   "source": [
    "## 啟動 jupyter notebook\n",
    "\n",
    "```bash\n",
    "(py39) $ jupyter notebook\n",
    "```\n"
   ]
  },
  {
   "cell_type": "markdown",
   "metadata": {},
   "source": [
    "## 在 jupyter 內建立新筆記本\n",
    "\n",
    "![](https://hackmd.io/_uploads/rkbqYq_Rn.png)\n"
   ]
  },
  {
   "cell_type": "markdown",
   "metadata": {},
   "source": [
    "![](https://hackmd.io/_uploads/rJENsqdA2.png)\n"
   ]
  },
  {
   "cell_type": "markdown",
   "metadata": {},
   "source": [
    "# Python 基礎語法\n",
    "\n",
    "easyeee~\n"
   ]
  },
  {
   "cell_type": "markdown",
   "metadata": {},
   "source": [
    "所有東西都是物件\n"
   ]
  },
  {
   "cell_type": "code",
   "execution_count": null,
   "metadata": {},
   "outputs": [],
   "source": [
    "message = \"Hello World\"\n",
    "print(message)"
   ]
  },
  {
   "cell_type": "markdown",
   "metadata": {},
   "source": [
    "條件判斷\n"
   ]
  },
  {
   "cell_type": "code",
   "execution_count": null,
   "metadata": {},
   "outputs": [],
   "source": [
    "x = 5\n",
    "if x > 0:\n",
    "    print(\"x是正數\")"
   ]
  },
  {
   "cell_type": "markdown",
   "metadata": {},
   "source": [
    "函數定義\n"
   ]
  },
  {
   "cell_type": "code",
   "execution_count": null,
   "metadata": {},
   "outputs": [],
   "source": [
    "def sayHello(name):\n",
    "    print(\"Hello \" + name)\n",
    "\n",
    "\n",
    "sayHello(\"John\")"
   ]
  },
  {
   "cell_type": "markdown",
   "metadata": {},
   "source": [
    "for 循環結構\n"
   ]
  },
  {
   "cell_type": "code",
   "execution_count": null,
   "metadata": {},
   "outputs": [],
   "source": [
    "for i in range(5):\n",
    "    print(i)\n",
    "\n",
    "list1 = [1, 2, 3]\n",
    "for item in list1:\n",
    "    print(item)"
   ]
  },
  {
   "cell_type": "markdown",
   "metadata": {},
   "source": [
    "while 循環\n"
   ]
  },
  {
   "cell_type": "code",
   "execution_count": null,
   "metadata": {},
   "outputs": [],
   "source": [
    "i = 10\n",
    "while i > 0:\n",
    "    print(i)"
   ]
  },
  {
   "cell_type": "code",
   "execution_count": null,
   "metadata": {},
   "outputs": [],
   "source": [
    "i = 10\n",
    "f = False\n",
    "while not f:\n",
    "    if i == 0:\n",
    "        f = True\n",
    "    print(i)"
   ]
  },
  {
   "cell_type": "markdown",
   "metadata": {},
   "source": [
    "## python 的型別\n",
    "\n",
    "python 的變數可以隨意改變型別\n"
   ]
  },
  {
   "cell_type": "code",
   "execution_count": null,
   "metadata": {},
   "outputs": [],
   "source": [
    "number = 1  # int\n",
    "print(number)\n",
    "number = \"asdf\"  # str\n",
    "print(number)"
   ]
  },
  {
   "cell_type": "markdown",
   "metadata": {},
   "source": [
    "檢查型別\n"
   ]
  },
  {
   "cell_type": "code",
   "execution_count": null,
   "metadata": {},
   "outputs": [],
   "source": [
    "random_thing = 1.3\n",
    "print(type(random_thing))"
   ]
  },
  {
   "cell_type": "markdown",
   "metadata": {},
   "source": [
    "數據結構\n"
   ]
  },
  {
   "cell_type": "code",
   "execution_count": null,
   "metadata": {},
   "outputs": [],
   "source": [
    "myList = [1, 2, 3]  # 列表 list\n",
    "myTuple = (1, 2, 3)  # 元組 tuple\n",
    "myDict = {\"name\": \"John\", \"age\": 25}  # 字典 dict\n",
    "mySet = {1, 2, 3}  # 集合 set"
   ]
  },
  {
   "cell_type": "markdown",
   "metadata": {},
   "source": [
    "取值\n"
   ]
  },
  {
   "cell_type": "code",
   "execution_count": null,
   "metadata": {},
   "outputs": [],
   "source": [
    "print(myList[0])\n",
    "print(myTuple[1])\n",
    "print(myDict[\"name\"])\n",
    "print(mySet[2])"
   ]
  },
  {
   "cell_type": "markdown",
   "metadata": {},
   "source": [
    "## 轉換型別\n",
    "\n",
    "只有同種的可以互換\n",
    "\n",
    "```\n",
    "ex:\n",
    "list <--> tuple\n",
    "str <--> list\n",
    "int <--> float\n",
    "```\n"
   ]
  },
  {
   "cell_type": "code",
   "execution_count": null,
   "metadata": {},
   "outputs": [],
   "source": [
    "a = \"abcdefg\"\n",
    "print(list(a))\n",
    "print(tuple(list(a)))\n",
    "b = 1\n",
    "c = 2\n",
    "print(float(b) + float(c))"
   ]
  },
  {
   "cell_type": "markdown",
   "metadata": {},
   "source": [
    "## 笨電腦\n"
   ]
  },
  {
   "cell_type": "code",
   "execution_count": null,
   "metadata": {},
   "outputs": [],
   "source": [
    "print(0.1 + 0.2)"
   ]
  },
  {
   "cell_type": "markdown",
   "metadata": {},
   "source": [
    "# 數據分析\n",
    "\n",
    "## 什麼是 numpy?\n",
    "\n",
    "- Python 的開源數值計算擴展程式庫\n",
    "- 提供高效能的多維陣列與矩陣運算、數學函數等功能\n",
    "- 機器學習和數據科學的基礎套件\n"
   ]
  },
  {
   "cell_type": "markdown",
   "metadata": {},
   "source": [
    "## numpy 安裝\n",
    "\n",
    "```bash\n",
    "pip install numpy\n",
    "```\n",
    "\n",
    "_使用其他的伺服器_\n",
    "\n",
    "```bash\n",
    "pip install numpy --extra-index-url http://<my_ip> --trusted-host <my_ip>\n",
    "```\n"
   ]
  },
  {
   "cell_type": "markdown",
   "metadata": {},
   "source": [
    "## numpy 使用\n",
    "\n",
    "首先需要匯入 numpy 模組，通常用 np 代稱\n"
   ]
  },
  {
   "cell_type": "code",
   "execution_count": null,
   "metadata": {},
   "outputs": [],
   "source": [
    "import numpy as np"
   ]
  },
  {
   "cell_type": "markdown",
   "metadata": {},
   "source": [
    "## 建立 ndarray\n",
    "\n",
    "ndarray 為 numpy 的多維陣列物件\n"
   ]
  },
  {
   "cell_type": "code",
   "execution_count": null,
   "metadata": {},
   "outputs": [],
   "source": [
    "array = np.array([1, 2, 3])\n",
    "\n",
    "matrix = np.array([[1, 2], [3, 4]])"
   ]
  },
  {
   "cell_type": "markdown",
   "metadata": {},
   "source": [
    "## ndarray 屬性\n",
    "\n",
    "- ndarray.shape: 陣列維度\n",
    "- ndarray.dtype: 陣列中的元素類型\n"
   ]
  },
  {
   "cell_type": "code",
   "execution_count": null,
   "metadata": {},
   "outputs": [],
   "source": [
    "print(array.shape)  # (3,)\n",
    "print(matrix.shape)  # (2, 2)\n",
    "print(array.dtype)  # int64"
   ]
  },
  {
   "cell_type": "markdown",
   "metadata": {},
   "source": [
    "## 新增維度\n",
    "\n",
    "可以使用 np.newaxis 或 None 來新增維度\n"
   ]
  },
  {
   "cell_type": "code",
   "execution_count": null,
   "metadata": {},
   "outputs": [],
   "source": [
    "array_2d = array[np.newaxis, :]  # [[1,2,3]]\n",
    "\n",
    "array_3d = array[:, np.newaxis, np.newaxis]  # [[[1]],[[2]],[[3]]]"
   ]
  },
  {
   "cell_type": "markdown",
   "metadata": {},
   "source": [
    "## 陣列運算\n",
    "\n",
    "向量化運算,適用於整個陣列\n"
   ]
  },
  {
   "cell_type": "code",
   "execution_count": null,
   "metadata": {},
   "outputs": [],
   "source": [
    "matrix + 2\n",
    "\n",
    "matrix * matrix  # 元素對應相乘"
   ]
  },
  {
   "cell_type": "markdown",
   "metadata": {},
   "source": [
    "## 常用函數\n",
    "\n",
    "- `np.linspace`: 創建線段陣列\n",
    "- `np.mean`: 計算均值\n",
    "- `np.sum`: 總和\n",
    "- `np.min/max`: 最小值和最大值\n",
    "\n",
    "等等\n"
   ]
  },
  {
   "cell_type": "markdown",
   "metadata": {},
   "source": [
    "# pandas 基本用法\n",
    "\n",
    "## 什麼是 pandas\n",
    "\n",
    "pandas 是基於 numpy 的 Python 數據分析庫,提供:\n",
    "\n",
    "- 高效的數據結構(Series、DataFrame)\n",
    "- 數據讀取/寫入工具\n",
    "- 數據清理與處理方法\n",
    "- 合併/連接數據集功能\n"
   ]
  },
  {
   "cell_type": "markdown",
   "metadata": {},
   "source": [
    "## 安裝 pandas\n",
    "\n",
    "```bash\n",
    "pip install pandas\n",
    "```\n",
    "\n",
    "_使用其他的伺服器_\n",
    "\n",
    "```bash\n",
    "pip install pandas --extra-index-url http://<my_ip> --trusted-host <my_ip>\n",
    "```\n"
   ]
  },
  {
   "cell_type": "markdown",
   "metadata": {},
   "source": [
    "## 使用 pandas\n",
    "\n",
    "引入數據庫，通常會使用 pd 代稱\n"
   ]
  },
  {
   "cell_type": "code",
   "execution_count": null,
   "metadata": {},
   "outputs": [],
   "source": [
    "import pandas as pd"
   ]
  },
  {
   "cell_type": "markdown",
   "metadata": {},
   "source": [
    "## Series\n",
    "\n",
    "一維數據，可設置索引\n"
   ]
  },
  {
   "cell_type": "code",
   "execution_count": null,
   "metadata": {},
   "outputs": [],
   "source": [
    "s = pd.Series([1, 2, 3], index=[\"a\", \"b\", \"c\"])"
   ]
  },
  {
   "cell_type": "markdown",
   "metadata": {},
   "source": [
    "## DataFrame\n",
    "\n",
    "二維數據，類似表格/excel\n"
   ]
  },
  {
   "cell_type": "code",
   "execution_count": null,
   "metadata": {},
   "outputs": [],
   "source": [
    "data = {\"Name\": [\"John\", \"Mary\"], \"Age\": [25, 27]}\n",
    "df = pd.DataFrame(data)"
   ]
  },
  {
   "cell_type": "markdown",
   "metadata": {},
   "source": [
    "## 讀取 csv\n"
   ]
  },
  {
   "cell_type": "code",
   "execution_count": null,
   "metadata": {},
   "outputs": [],
   "source": [
    "df = pd.read_csv(\"data.csv\")"
   ]
  },
  {
   "cell_type": "markdown",
   "metadata": {},
   "source": [
    "## 查看資料\n",
    "\n",
    "- `df.head()`/`df.tail()`\n",
    "- `df.shape`\n",
    "- `df.dtypes`\n",
    "- `df.index`/`df.columns`\n",
    "- `df.values`\n",
    "- `df.describe()` 統計訊息\n"
   ]
  },
  {
   "cell_type": "markdown",
   "metadata": {},
   "source": [
    "## 數據選取\n",
    "\n",
    "- `df[col]`: column\n",
    "- `df.loc[index]`: 行\n",
    "- `df.iloc[index]`: 位置\n"
   ]
  },
  {
   "cell_type": "markdown",
   "metadata": {},
   "source": [
    "## 數據清理\n",
    "\n",
    "- 刪除列: `del df[col]`\n",
    "- 填補 NaN: `df.fillna()`\n",
    "- 去除重復的: `df.drop_duplicates()`\n"
   ]
  },
  {
   "cell_type": "markdown",
   "metadata": {},
   "source": [
    "# OpenCV-Python (cv2) 基本用法\n",
    "\n",
    "## 安裝 OpenCV\n",
    "\n",
    "使用 pip 裝:\n",
    "\n",
    "```\n",
    "pip install opencv-python\n",
    "```\n",
    "\n",
    "_使用其他伺服器_\n",
    "\n",
    "```bash\n",
    "pip install opencv-python --extra-index-url http://<my_ip> --trusted-host <my_ip>\n",
    "```\n"
   ]
  },
  {
   "cell_type": "markdown",
   "metadata": {},
   "source": [
    "## 什麼是 OpenCV?\n",
    "\n",
    "OpenCV 是開源的電腦視覺庫，提供許多影像處理和電腦視覺相關的功能。\n",
    "\n",
    "最新版本是 4.x，Python 繫結是 cv2。\n"
   ]
  },
  {
   "cell_type": "code",
   "execution_count": null,
   "metadata": {},
   "outputs": [],
   "source": [
    "import cv2"
   ]
  },
  {
   "cell_type": "markdown",
   "metadata": {},
   "source": [
    "為何是 cv2 不是叫做 cv?\n",
    "因為 cv 是一個老版本，不是使用 numpy 作為 backend，現在已經幾乎不再使用了。\n"
   ]
  },
  {
   "cell_type": "markdown",
   "metadata": {},
   "source": [
    "## 讀取圖像\n",
    "\n",
    "支援讀取 JPG、PNG、TIFF 等格式。\n"
   ]
  },
  {
   "cell_type": "code",
   "execution_count": null,
   "metadata": {},
   "outputs": [],
   "source": [
    "img = cv2.imread(\"image.jpg\")"
   ]
  },
  {
   "cell_type": "markdown",
   "metadata": {},
   "source": [
    "## 顯示圖片\n",
    "\n",
    "註:在 jupyter notebook 中不能直接使用 cv2.imshow()，需要使用 matplotlib 來顯示圖片。\n"
   ]
  },
  {
   "cell_type": "code",
   "execution_count": null,
   "metadata": {},
   "outputs": [],
   "source": [
    "# cv2.imshow('Image', img)\n",
    "# cv2.waitKey(0) # 按任意鍵繼續"
   ]
  },
  {
   "cell_type": "markdown",
   "metadata": {},
   "source": [
    "## 寫入圖片\n"
   ]
  },
  {
   "cell_type": "code",
   "execution_count": null,
   "metadata": {},
   "outputs": [],
   "source": [
    "cv2.imwrite(\"output.jpg\", img)"
   ]
  },
  {
   "cell_type": "markdown",
   "metadata": {},
   "source": [
    "## 圖像資訊\n",
    "\n",
    "- `img.shape` - 形狀\n",
    "- `img.size` - 大小\n",
    "- `img.dtype` - 數據類型\n"
   ]
  },
  {
   "cell_type": "markdown",
   "metadata": {},
   "source": [
    "## 圖像處理\n",
    "\n",
    "- 色彩空間轉換:`cv2.cvtColor(img, cv2.COLOR_BGR2GRAY)`\n",
    "- 縮放:`cv2.resize(img, (width, height))`\n",
    "- 裁剪:`img[y1:y2, x1:x2]`\n",
    "- 模糊:`cv2.blur(img, (5, 5))`\n"
   ]
  },
  {
   "cell_type": "markdown",
   "metadata": {},
   "source": [
    "# Matplotlib 基本用法\n"
   ]
  },
  {
   "cell_type": "markdown",
   "metadata": {},
   "source": [
    "安裝:\n",
    "\n",
    "```bash\n",
    "pip install matplotlib\n",
    "```\n",
    "\n",
    "_使用其他的伺服器_\n",
    "\n",
    "```bash\n",
    "pip install matplotlib --extra-index-url http://<my_ip> --trusted-host <my_ip>\n",
    "```\n"
   ]
  },
  {
   "cell_type": "markdown",
   "metadata": {},
   "source": [
    "## 什麼是 Matplotlib\n",
    "\n",
    "Matplotlib 是 Python 的 2D 繪圖庫，廣泛用於繪製論文的數據圖表。\n"
   ]
  },
  {
   "cell_type": "code",
   "execution_count": null,
   "metadata": {},
   "outputs": [],
   "source": [
    "import matplotlib.pyplot as plt"
   ]
  },
  {
   "cell_type": "markdown",
   "metadata": {},
   "source": [
    "## 繪製圖表\n",
    "\n",
    "### 折線圖\n"
   ]
  },
  {
   "cell_type": "code",
   "execution_count": null,
   "metadata": {},
   "outputs": [],
   "source": [
    "x = [1, 2, 3, 4]\n",
    "y = [2, 4, 6, 8]\n",
    "plt.plot(x, y)"
   ]
  },
  {
   "cell_type": "markdown",
   "metadata": {},
   "source": [
    "### 柱狀圖\n"
   ]
  },
  {
   "cell_type": "code",
   "execution_count": null,
   "metadata": {},
   "outputs": [],
   "source": [
    "x = [\"A\", \"B\", \"C\", \"D\"]\n",
    "y = [10, 30, 40, 20]\n",
    "plt.bar(x, y)"
   ]
  },
  {
   "cell_type": "markdown",
   "metadata": {},
   "source": [
    "## imshow 顯示圖片\n"
   ]
  },
  {
   "cell_type": "code",
   "execution_count": null,
   "metadata": {},
   "outputs": [],
   "source": [
    "img = cv2.imread(\"image.jpg\")\n",
    "plt.imshow(img)"
   ]
  },
  {
   "cell_type": "markdown",
   "metadata": {},
   "source": [
    "## 圖標題、軸標籤\n"
   ]
  },
  {
   "cell_type": "code",
   "execution_count": null,
   "metadata": {},
   "outputs": [],
   "source": [
    "plt.title(\"Title\")\n",
    "plt.xlabel(\"X Label\")\n",
    "plt.ylabel(\"Y Label\")"
   ]
  },
  {
   "cell_type": "markdown",
   "metadata": {},
   "source": [
    "## 圖片範圍、刻度\n"
   ]
  },
  {
   "cell_type": "code",
   "execution_count": null,
   "metadata": {},
   "outputs": [],
   "source": [
    "plt.xlim(0, 5)\n",
    "plt.ylim(0, 10)\n",
    "\n",
    "plt.xticks([0, 1, 2, 3, 4, 5])\n",
    "plt.yticks([0, 2, 4, 6, 8, 10])"
   ]
  },
  {
   "cell_type": "markdown",
   "metadata": {},
   "source": [
    "## 圖例、顯示\n"
   ]
  },
  {
   "cell_type": "code",
   "execution_count": null,
   "metadata": {},
   "outputs": [],
   "source": [
    "plt.legend([\"A\", \"B\"])\n",
    "plt.show()"
   ]
  }
 ],
 "metadata": {
  "language_info": {
   "name": "python"
  }
 },
 "nbformat": 4,
 "nbformat_minor": 2
}
