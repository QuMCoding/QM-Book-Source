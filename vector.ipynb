{
 "cells": [
  {
   "cell_type": "code",
   "execution_count": 5,
   "metadata": {},
   "outputs": [],
   "source": [
    "import numpy as np\n",
    "import matplotlib.pyplot as plt\n",
    "%matplotlib widget"
   ]
  },
  {
   "cell_type": "code",
   "execution_count": null,
   "outputs": [],
   "source": [
    "# 4-2, 4-3\n",
    "# cross and dot\n",
    "plt.clf()\n",
    "ax = plt.axes(projection=\"3d\")\n",
    "ax.set_box_aspect(aspect=(1, 1, 1))\n",
    "a = np.array([3, -5, 1])\n",
    "b = np.array([1, 4, 0])\n",
    "crossed = np.cross(a, b)\n",
    "\n",
    "print(\"a dot   b is\", np.dot(a, b))\n",
    "print(\"a cross b is\", crossed)\n",
    "\n",
    "size = 10\n",
    "ax.set_xlim3d(-size, size)\n",
    "ax.set_ylim3d(-size, size)\n",
    "ax.set_zlim3d(-size, size)\n",
    "\n",
    "ax.quiver(0, 0, 0, *a, color=\"r\")\n",
    "ax.quiver(0, 0, 0, *b, color=\"b\")\n",
    "ax.quiver(0, 0, 0, *crossed, color=\"black\")\n",
    "\n",
    "plt.show()"
   ],
   "metadata": {
    "collapsed": false
   }
  },
  {
   "cell_type": "code",
   "execution_count": null,
   "outputs": [],
   "source": [
    "# 5-1\n",
    "# summation of 2 2-dimension arrays\n",
    "plt.clf()\n",
    "a = np.array([1, 2])\n",
    "b = np.array([-2, 3])\n",
    "summ = a + b\n",
    "sub = a - b\n",
    "mul = np.array(np.matmul(a, b))\n",
    "\n",
    "print(f\"a + b = {summ}\")\n",
    "print(f\"a - b = {sub}\")\n",
    "print(f\"a * b = {mul}\")\n",
    "\n",
    "plt.xlim(-6, 6)\n",
    "plt.ylim(-6, 6)\n",
    "\n",
    "plt.quiver(0, 0, *a, color=\"black\", angles=\"xy\", scale_units=\"xy\", scale=1)\n",
    "plt.quiver(0, 0, *b, color=\"black\", angles=\"xy\", scale_units=\"xy\", scale=1)\n",
    "\n",
    "plt.quiver(0, 0, *summ, color=\"blue\", angles=\"xy\", scale_units=\"xy\", scale=1)\n",
    "plt.quiver(0, 0, *sub, color=\"red\", angles=\"xy\", scale_units=\"xy\", scale=1)\n",
    "plt.show()"
   ],
   "metadata": {
    "collapsed": false
   }
  },
  {
   "cell_type": "code",
   "execution_count": null,
   "outputs": [],
   "source": [
    "# 5-1\n",
    "# summation of many n-dimension arrays\n",
    "vectors = np.array([[[1, 2, 3], [2, 4, 6]],\n",
    "                    [[-2, 5, -3], [2, 7, 4]],\n",
    "                    [[-1, -7, 4], [4, 5, 8]]])\n",
    "summ = vectors[0]\n",
    "for v in vectors[1:]:\n",
    "    summ += v\n",
    "print(f\"sum = \\n{summ}\")"
   ],
   "metadata": {
    "collapsed": false
   }
  },
  {
   "cell_type": "code",
   "execution_count": null,
   "outputs": [],
   "source": [
    "# 5-1\n",
    "# summation of 2-dimension arrays, then plot it out\n",
    "plt.clf()\n",
    "vectors = np.array([[1, 2],\n",
    "                    [-2, 5],\n",
    "                    [-1, -7]])\n",
    "\n",
    "limit_x = np.max(np.abs(vectors), axis=0)[0] * 1.7\n",
    "limit_y = np.max(np.abs(vectors), axis=0)[1] * 1.7\n",
    "plt.xlim(-limit_x, limit_x)\n",
    "plt.ylim(-limit_y, limit_y)\n",
    "\n",
    "for v in vectors:\n",
    "    plt.quiver(0, 0, v[0], v[1], color=\"black\", angles=\"xy\", scale_units=\"xy\", scale=1)\n",
    "\n",
    "summation = vectors[0]\n",
    "for i in vectors[1:]: summation += i\n",
    "plt.quiver(0, 0, summation[0], summation[1], color=\"blue\",\n",
    "           angles=\"xy\", scale_units=\"xy\", scale=1)\n",
    "\n",
    "plt.show()"
   ],
   "metadata": {
    "collapsed": false
   }
  },
  {
   "cell_type": "code",
   "execution_count": null,
   "outputs": [],
   "source": [
    "from sympy import Matrix, symbols, diff, sin, cos, pprint, init_printing, lambdify, sympify\n",
    "from sympy.solvers.solveset import linsolve\n",
    "from sympy.plotting import plot3d_parametric_line, plot3d\n",
    "from sympy.vector import CoordSys3D, gradient, divergence, Del, curl\n",
    "from mpl_toolkits.mplot3d import axes3d"
   ],
   "metadata": {
    "collapsed": false
   }
  },
  {
   "cell_type": "code",
   "execution_count": null,
   "outputs": [],
   "source": [
    "# 5-3, 5-5\n",
    "# solve linear algebra, includes inhomogeneous(非齊次) solve\n",
    "# AX = B, X = (x1, x2, ..., xn)^t, B = (b1, b2, ..., bm)^t\n",
    "x1, x2, x3, x4 = symbols(\"x1, x2, x3, x4\")\n",
    "AnB = Matrix([[1, -2, 3, -4, -8],\n",
    "              [2, 1, 0, 2, 11],\n",
    "              [1, 1, -1, 2, 7],\n",
    "              [2, 1, -3, 1, 0]])  # [A|B]\n",
    "linsolve(AnB, (x1, x2, x3, x4))"
   ],
   "metadata": {
    "collapsed": false
   }
  },
  {
   "cell_type": "code",
   "execution_count": null,
   "outputs": [],
   "source": [
    "# 6-1\n",
    "# v(t) = v1(t)i + v2(t)j + v3(t)k\n",
    "# i, j, k are vectors, (1, 0, 0), (0, 1, 0), (0, 0, 1)\n",
    "t = symbols(\"t\")\n",
    "v1_t = sin(t)\n",
    "v2_t = cos(t)\n",
    "v3_t = t\n",
    "v_t = 0\n",
    "alpha = [v1_t, v2_t, v3_t]\n",
    "plot3d_parametric_line(*alpha)\n",
    "diffed = [diff(v1_t, t), diff(v2_t, t), diff(v3_t, t)]\n",
    "plot3d_parametric_line(*diffed)"
   ],
   "metadata": {
    "collapsed": false
   }
  },
  {
   "cell_type": "code",
   "execution_count": null,
   "outputs": [],
   "source": [
    "# 什麼是梯度, Del() 的使用\n",
    "plt.clf()\n",
    "R = CoordSys3D(\"R\")\n",
    "delop = Del()  # del operator, 相當於∇\n",
    "\n",
    "coeff_xyz = [2, 3, 4]  # x, y, z\n",
    "R.z = coeff_xyz[0] * R.x ** 2 + coeff_xyz[1] * R.y ** 2\n",
    "g = delop.gradient(R.z, doit=True)\n",
    "\n",
    "pprint(R.z)\n",
    "pprint(g)\n",
    "\n",
    "X4Q, Y4Q = np.meshgrid(np.linspace(-3, 3, 10), np.linspace(-3, 3, 10))\n",
    "X4QV, Y4QV = X4Q, Y4Q\n",
    "X4B = np.linspace(-20, 20, 70)\n",
    "Y4B = np.linspace(-20, 20, 70)\n",
    "\n",
    "dx = (X4B[1] - X4B[0]) / 2.\n",
    "dy = (Y4B[1] - Y4B[0]) / 2.\n",
    "extent = [X4B[0] - dx, X4B[-1] + dx, Y4B[0] - dy, Y4B[-1] + dy]\n",
    "P = np.zeros((70, 70))\n",
    "\n",
    "for i in range(X4QV.shape[1]):\n",
    "    for j in range(Y4QV.shape[0]):\n",
    "        tmp = g.subs({R.x: X4Q[i, j], R.y: Y4Q[i, j]})\n",
    "        tmp = tmp.to_matrix(R)[:2]\n",
    "        X4QV[i, j], Y4QV[i, j] = tmp\n",
    "\n",
    "for i in range(len(X4B)):\n",
    "    for j in range(len(Y4B)):\n",
    "        P[i, j] = R.z.subs({R.x: X4B[i], R.y: Y4B[j]})\n",
    "\n",
    "plt.quiver(X4Q, Y4Q, X4QV, Y4QV, color=\"lime\",\n",
    "           angles=\"xy\", scale_units=\"xy\", scale=1)\n",
    "plt.imshow(P, extent=extent, cmap=\"magma\")\n",
    "plt.colorbar()\n",
    "\n",
    "plt.show()\n"
   ],
   "metadata": {
    "collapsed": false
   }
  },
  {
   "cell_type": "code",
   "execution_count": null,
   "outputs": [],
   "source": [
    "# 梯度, 直接用gradient()\n",
    "R = CoordSys3D(\"R\")\n",
    "coeff_xyz = [2, 3, 4]  # x, y, z\n",
    "f = coeff_xyz[0] * R.x ** 2 + coeff_xyz[1] * R.y ** 2\n",
    "g = gradient(f)\n",
    "pprint(g)"
   ],
   "metadata": {
    "collapsed": false
   }
  },
  {
   "cell_type": "code",
   "execution_count": null,
   "outputs": [],
   "source": [
    "# 方向導數\n",
    "R = CoordSys3D(\"R\")\n",
    "coeff_xyz = [2, 3, 4]  # x, y, z\n",
    "coeff_ijk = [1, 2, -1]  # i, j, k\n",
    "f = coeff_xyz[0] * R.x ** 2 + coeff_xyz[1] * R.y ** 2 + coeff_xyz[2] * R.z ** 2\n",
    "g = gradient(f)\n",
    "del_f = g.subs([(R.x, 1), (R.y, 2), (R.z, 3)])\n",
    "a = coeff_ijk[0] * R.i + coeff_ijk[1] * R.j + coeff_ijk[2] * R.k\n",
    "init_printing()\n",
    "\n",
    "print(\"f(x, y, z) = \")\n",
    "pprint(f)\n",
    "print(\"\\na = \")\n",
    "pprint(a)\n",
    "print(\"\\n∇f = \")\n",
    "pprint(g)\n",
    "pprint(del_f)\n",
    "print()\n",
    "\n",
    "result = (del_f.dot(a)) / (sum([f ** 2 for f in coeff_ijk])) ** 0.5\n",
    "\n",
    "print(\"answer is (1 / ||a||) ∇f ⋅ a\")\n",
    "print(\"result is: \", end=\"\")\n",
    "pprint(result)"
   ],
   "metadata": {
    "collapsed": false
   }
  },
  {
   "cell_type": "code",
   "execution_count": null,
   "outputs": [],
   "source": [
    "# 什麼是散度\n",
    "# 散度是∇ ⋅ f\n",
    "plt.clf()\n",
    "\n",
    "R = CoordSys3D(\"R\")\n",
    "f = 1 * sin(R.x) * R.i + \\\n",
    "    1 * cos(R.y) * R.j\n",
    "d = delop.dot(f, doit=True)\n",
    "\n",
    "resolution = 50\n",
    "\n",
    "X4B, Y4B = np.mgrid[-3:3:resolution * 1j, -3:3:resolution * 1j]\n",
    "img = np.zeros((resolution, resolution))\n",
    "extent = [-3, 3, -3, 3]\n",
    "\n",
    "for i, v in np.ndenumerate(X4B):\n",
    "    now = d.subs({R.x: v, R.y: Y4B[i]})\n",
    "    img[i] = now\n",
    "plt.imshow(img, extent=extent)\n",
    "\n",
    "resolution = 30\n",
    "X4Q, Y4Q = np.mgrid[-2:2:resolution * 1j, -2:2:resolution * 1j]\n",
    "X4QV, Y4QV = np.mgrid[-2:2:resolution * 1j, -2:2:resolution * 1j]\n",
    "for i, v in np.ndenumerate(X4Q):\n",
    "    now = f.subs({R.x: v, R.y: Y4Q[i]}).to_matrix(R)\n",
    "    X4QV[i] = now[0]\n",
    "    Y4QV[i] = now[1]\n",
    "print(X4QV)\n",
    "plt.quiver(X4Q, Y4Q, X4QV, Y4QV, angles=\"xy\", scale_units=\"xy\", scale=1)\n",
    "\n",
    "plt.colorbar()\n",
    "plt.show()\n",
    "\n",
    "pprint(f)\n",
    "pprint(d)"
   ],
   "metadata": {
    "collapsed": false
   }
  },
  {
   "cell_type": "code",
   "execution_count": null,
   "outputs": [],
   "source": [
    "# 散度, 直接用divergence()\n",
    "d = divergence(f)\n",
    "pprint(d)"
   ],
   "metadata": {
    "collapsed": false
   }
  },
  {
   "cell_type": "code",
   "execution_count": null,
   "outputs": [],
   "source": [
    "# 什麼是旋度\n",
    "# 旋度是∇ × f\n",
    "plt.clf()\n",
    "ax = plt.axes(projection=\"3d\")\n",
    "R = CoordSys3D(\"R\")\n",
    "f = sin(R.y) * R.i + \\\n",
    "    cos(R.z) * R.j + \\\n",
    "    cos(R.x) * R.k\n",
    "c = delop.cross(f, doit=True)\n",
    "X4Q, Y4Q, Z4Q = np.mgrid[-2:2:6j, -2:2:6j, -2:2:6j]\n",
    "X4QV, Y4QV, Z4QV = X4Q, Y4Q, Z4Q\n",
    "\n",
    "for i, v in np.ndenumerate(X4Q):\n",
    "    now = c.subs({R.z: Z4Q[i], R.x: v, R.y: Y4Q[i]}).to_matrix(R)[:3]\n",
    "    X4QV[i] = now[0]\n",
    "    Y4QV[i] = now[1]\n",
    "    Z4QV[i] = now[2]\n",
    "ax.set_xlim((-2, 2))\n",
    "ax.set_ylim((-2, 2))\n",
    "ax.set_zlim((-2, 2))\n",
    "plt.quiver(X4Q, Y4Q, Z4Q, X4QV, Y4QV, Z4QV, length=0.5)\n",
    "plt.show()\n",
    "pprint(c)"
   ],
   "metadata": {
    "collapsed": false
   }
  },
  {
   "cell_type": "code",
   "execution_count": 44,
   "metadata": {},
   "outputs": [
    {
     "name": "stdout",
     "output_type": "stream",
     "text": [
      "⎛     2    2            2⎞        ⎛       2        2        2    ⎞     \n",
      "⎝4⋅x_R ⋅y_R ⋅z_R - 4⋅z_R ⎠ j_R  + ⎝- 4⋅x_R ⋅y_R⋅z_R  + 9⋅x_R ⋅y_R⎠ k_R \n"
     ]
    }
   ],
   "source": [
    "# 散度, 直接用curl()\n",
    "c = curl(f)\n",
    "pprint(c)"
   ]
  },
  {
   "cell_type": "code",
   "execution_count": null,
   "metadata": {},
   "outputs": [],
   "source": []
  }
 ],
 "metadata": {
  "kernelspec": {
   "display_name": "Python 3 (ipykernel)",
   "language": "python",
   "name": "python3"
  },
  "language_info": {
   "codemirror_mode": {
    "name": "ipython",
    "version": 3
   },
   "file_extension": ".py",
   "mimetype": "text/x-python",
   "name": "python",
   "nbconvert_exporter": "python",
   "pygments_lexer": "ipython3",
   "version": "3.9.12"
  }
 },
 "nbformat": 4,
 "nbformat_minor": 2
}
